{
 "cells": [
  {
   "cell_type": "markdown",
   "id": "a8e1f960-3d62-40b7-985b-124a8322ec0e",
   "metadata": {},
   "source": [
    "Q1. What is an Exception in python? Write the difference between Exceptions and \n",
    "Syntax errors. "
   ]
  },
  {
   "cell_type": "markdown",
   "id": "85757098-449b-4982-88e2-d27f0675ac1f",
   "metadata": {},
   "source": [
    "An exception is an event, which occurs during the execution of a program that disrupts the normal flow of the program's instructions. In general, when a Python script encounters a situation that it cannot cope with, it raises an exception. An exception is a Python object that represents an error.\n",
    "\n",
    "A syntax error occurs when the structure of a program does not conform to the rules of the programming language. Syntax errors are usually detected by the compiler or interpreter when the program is being compiled or executed, and they prevent the program from running. Syntax errors are usually caused by mistakes in the source code, such as typos, omissions, or incorrect use of syntax.\n",
    "\n",
    "An exception is an abnormal event that occurs during the execution of a program. Exceptions are usually caused by runtime errors, such as dividing by zero, trying to access an element in an array with an out-of-bounds index, or trying to access a file that does not exist. Exceptions are not syntax errors, but they can still prevent the program from running if they are not handled properly."
   ]
  },
  {
   "cell_type": "markdown",
   "id": "6fbbd299-c1a5-4a11-89b2-39b597c776e3",
   "metadata": {},
   "source": [
    "Q2. What happens when an exception is not handled? Explain with an example."
   ]
  },
  {
   "cell_type": "markdown",
   "id": "abe8301a-aaf4-4302-b657-9dc3971dd8bd",
   "metadata": {},
   "source": [
    "When an exception is not handled in a program, it results in an abnormal termination of the program. This can cause the program to crash, and any data that was being processed or manipulated by the program may be lost or left in an inconsistent state.\n",
    "\n",
    "Here's an example of what can happen when an exception is not handled:"
   ]
  },
  {
   "cell_type": "code",
   "execution_count": 8,
   "id": "7cdb522b-b401-489e-9286-016c287e36cd",
   "metadata": {},
   "outputs": [
    {
     "ename": "ZeroDivisionError",
     "evalue": "division by zero",
     "output_type": "error",
     "traceback": [
      "\u001b[0;31m---------------------------------------------------------------------------\u001b[0m",
      "\u001b[0;31mZeroDivisionError\u001b[0m                         Traceback (most recent call last)",
      "Cell \u001b[0;32mIn[8], line 9\u001b[0m\n\u001b[1;32m      6\u001b[0m     \u001b[38;5;28mprint\u001b[39m(\u001b[38;5;124m\"\u001b[39m\u001b[38;5;124mResult is: \u001b[39m\u001b[38;5;124m\"\u001b[39m, result)\n\u001b[1;32m      8\u001b[0m \u001b[38;5;28;01mif\u001b[39;00m \u001b[38;5;18m__name__\u001b[39m \u001b[38;5;241m==\u001b[39m \u001b[38;5;124m'\u001b[39m\u001b[38;5;124m__main__\u001b[39m\u001b[38;5;124m'\u001b[39m:\n\u001b[0;32m----> 9\u001b[0m     \u001b[43mmain\u001b[49m\u001b[43m(\u001b[49m\u001b[43m)\u001b[49m\n",
      "Cell \u001b[0;32mIn[8], line 5\u001b[0m, in \u001b[0;36mmain\u001b[0;34m()\u001b[0m\n\u001b[1;32m      4\u001b[0m \u001b[38;5;28;01mdef\u001b[39;00m \u001b[38;5;21mmain\u001b[39m():\n\u001b[0;32m----> 5\u001b[0m     result \u001b[38;5;241m=\u001b[39m \u001b[43mdivide_by_zero\u001b[49m\u001b[43m(\u001b[49m\u001b[43m)\u001b[49m\n\u001b[1;32m      6\u001b[0m     \u001b[38;5;28mprint\u001b[39m(\u001b[38;5;124m\"\u001b[39m\u001b[38;5;124mResult is: \u001b[39m\u001b[38;5;124m\"\u001b[39m, result)\n",
      "Cell \u001b[0;32mIn[8], line 2\u001b[0m, in \u001b[0;36mdivide_by_zero\u001b[0;34m()\u001b[0m\n\u001b[1;32m      1\u001b[0m \u001b[38;5;28;01mdef\u001b[39;00m \u001b[38;5;21mdivide_by_zero\u001b[39m():\n\u001b[0;32m----> 2\u001b[0m     \u001b[38;5;28;01mreturn\u001b[39;00m \u001b[38;5;241;43m1\u001b[39;49m\u001b[38;5;241;43m/\u001b[39;49m\u001b[38;5;241;43m0\u001b[39;49m\n",
      "\u001b[0;31mZeroDivisionError\u001b[0m: division by zero"
     ]
    }
   ],
   "source": [
    "def divide_by_zero():\n",
    "    return 1/0\n",
    "\n",
    "def main():\n",
    "    result = divide_by_zero()\n",
    "    print(\"Result is: \", result)\n",
    "\n",
    "if __name__ == '__main__':\n",
    "    main()\n"
   ]
  },
  {
   "cell_type": "markdown",
   "id": "62d8cf33-1c9e-4e2e-b3f9-b0f8f106ee3e",
   "metadata": {},
   "source": [
    "In the above code snippet, the divide_by_zero() function attempts to divide the number 1 by 0, which will result in a ZeroDivisionError exception. However, the exception is not handled in the function or in the main() function that calls it. As a result, when the program is run, it will crash with a traceback message like the above :\n",
    "\n",
    "As you can see, the program crashes with a ZeroDivisionError because the exception was not handled. If the exception had been handled with a try-except block, the program would have continued running, and any necessary actions could have been taken to deal with the exception."
   ]
  },
  {
   "cell_type": "markdown",
   "id": "bfbebe6a-d004-43cb-8b04-aa7d94bd5a8b",
   "metadata": {},
   "source": [
    "Q3. Which Python statements are used to catch and handle exceptions? Explain with an example. "
   ]
  },
  {
   "cell_type": "markdown",
   "id": "d955ee39-1a18-4b6b-a93c-2a4d3967e1ec",
   "metadata": {},
   "source": [
    "In Python, we catch exceptions and handle them using try and except code blocks. The try clause contains the code that can raise an exception, while the except clause contains the code lines that handle the exception. Let's see if we can access the index from the array, which is more than the array's length, and handle the resulting exception."
   ]
  },
  {
   "cell_type": "code",
   "execution_count": 9,
   "id": "9c91cfe7-56a3-4941-901f-b2ce01ce761f",
   "metadata": {},
   "outputs": [
    {
     "name": "stdout",
     "output_type": "stream",
     "text": [
      "The index and element from the array is 0 Python\n",
      "The index and element from the array is 1 Exceptions\n",
      "The index and element from the array is 2 try and except\n",
      "Index out of range\n"
     ]
    }
   ],
   "source": [
    "a = [\"Python\", \"Exceptions\", \"try and except\"]  \n",
    "try:  \n",
    "      \n",
    "     for i in range( 4 ):  \n",
    "        print( \"The index and element from the array is\", i, a[i] )       \n",
    "except:  \n",
    "    print (\"Index out of range\")  "
   ]
  },
  {
   "cell_type": "markdown",
   "id": "4490a3f5-7a1e-4f6e-9842-b821ec9c5e53",
   "metadata": {},
   "source": [
    "Q4. Explain with an example:\n",
    "\n",
    "a. try and else\n",
    "b. finally\n",
    "c. raise"
   ]
  },
  {
   "cell_type": "markdown",
   "id": "4d600fa3-b5a1-42fd-95b4-e7a51456d0cf",
   "metadata": {},
   "source": [
    "a. \"try and else\" is a programming construct used to handle errors and exceptions in code. The basic structure of \"try and else\" is as follows:\n",
    "\n",
    "try:\n",
    "    # code that may raise an exception\n",
    "except ExceptionType:\n",
    "    # code to handle the exception\n",
    "else:\n",
    "    # code to execute if there is no exception\n",
    "\n",
    "Here, the code inside the try block is executed, and if any exception is raised, it is caught by the except block. If there is no exception, the code inside the else block is executed.\n",
    "\n",
    "For example, let's say we want to divide two numbers and handle the case where the denominator is zero:"
   ]
  },
  {
   "cell_type": "code",
   "execution_count": 10,
   "id": "b37a9c03-7dc7-4409-af2c-3ca007ce2668",
   "metadata": {},
   "outputs": [
    {
     "name": "stdout",
     "output_type": "stream",
     "text": [
      "Cannot divide by zero\n"
     ]
    }
   ],
   "source": [
    "numerator = 10\n",
    "denominator = 0\n",
    "\n",
    "try:\n",
    "    result = numerator / denominator\n",
    "except ZeroDivisionError:\n",
    "    print(\"Cannot divide by zero\")\n",
    "else:\n",
    "    print(result)\n"
   ]
  },
  {
   "cell_type": "markdown",
   "id": "3235eefb-0824-4157-a939-ca8c0f004c6b",
   "metadata": {},
   "source": [
    "In this example, the code in the try block would raise a ZeroDivisionError, but it is caught by the except block, which prints a message instead of crashing the program."
   ]
  },
  {
   "cell_type": "markdown",
   "id": "3b0ec938-5de5-488c-8e80-1bc795b10f25",
   "metadata": {},
   "source": [
    "b. \"finally\" is a programming construct used to specify code that should be executed regardless of whether an exception is raised or not. The basic structure of \"finally\" is as follows:\n",
    "\n",
    "try:\n",
    "    # code that may raise an exception\n",
    "finally:\n",
    "    # code to execute regardless of whether an exception is raised or not\n",
    "\n",
    "Here, the code inside the try block is executed, and then the code inside the finally block is executed, regardless of whether an exception was raised or not.\n",
    "\n",
    "For example, let's say we want to open a file and then close it regardless of whether there was an error while opening it:"
   ]
  },
  {
   "cell_type": "code",
   "execution_count": 14,
   "id": "d478984a-869c-4ace-8107-e9474d19ce13",
   "metadata": {},
   "outputs": [],
   "source": [
    "try:\n",
    "    file = open(\"example.txt\", \"w\")\n",
    "finally:\n",
    "    file.close()\n"
   ]
  },
  {
   "cell_type": "markdown",
   "id": "28cf8144-ef8e-47ab-8003-09d6264625ac",
   "metadata": {},
   "source": [
    "In this example, the code in the finally block would always execute, ensuring that the file is properly closed even if an error occurred while reading it."
   ]
  },
  {
   "cell_type": "markdown",
   "id": "aa8059a1-2684-4b56-b1ac-acccf88b7505",
   "metadata": {},
   "source": [
    "c. \"raise\" is a programming construct used to raise an exception manually in code. The basic structure of \"raise\" is as follows:\n",
    "\n",
    "raise ExceptionType(\"error message\")\n",
    "\n",
    "Here, the raise keyword is followed by the type of exception to raise and an optional error message.\n",
    "\n",
    "For example, let's say we want to raise a custom exception when a user tries to enter an invalid input:"
   ]
  },
  {
   "cell_type": "code",
   "execution_count": 16,
   "id": "d58a89c8-4f17-4957-844d-74023777b8b8",
   "metadata": {},
   "outputs": [],
   "source": [
    "def calculate_square_root(n):\n",
    "    if n < 0:\n",
    "        raise ValueError(\"Cannot calculate square root of negative number\")\n"
   ]
  },
  {
   "cell_type": "markdown",
   "id": "7fb997d5-eeaf-4854-845f-3a90fe319619",
   "metadata": {},
   "source": [
    "In this example, if the user enters a negative number, the ValueError exception is raised with the error message \"Cannot calculate square root of negative number\"."
   ]
  }
 ],
 "metadata": {
  "kernelspec": {
   "display_name": "Python 3 (ipykernel)",
   "language": "python",
   "name": "python3"
  },
  "language_info": {
   "codemirror_mode": {
    "name": "ipython",
    "version": 3
   },
   "file_extension": ".py",
   "mimetype": "text/x-python",
   "name": "python",
   "nbconvert_exporter": "python",
   "pygments_lexer": "ipython3",
   "version": "3.10.8"
  }
 },
 "nbformat": 4,
 "nbformat_minor": 5
}
